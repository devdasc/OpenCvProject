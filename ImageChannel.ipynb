{
 "cells": [
  {
   "cell_type": "code",
   "execution_count": 7,
   "metadata": {},
   "outputs": [
    {
     "name": "stdout",
     "output_type": "stream",
     "text": [
      "(350, 590)\n"
     ]
    }
   ],
   "source": [
    "# Finding the shape of color image/ channels\n",
    "# Spliting and merging channels and Correelating with a grayscale image\n",
    "%config IPCompleter.greedy=True\n",
    "import cv2\n",
    "pic = cv2.imread(r'C:\\Users\\devda\\PythonProjects\\OpenCv\\OpenCvProject\\images\\messi.jpg')\n",
    "# shape = pic.shape # shape of pic\n",
    "(b,g,r) = cv2.split(pic)\n",
    "cv2.imshow('Blue',b)\n",
    "cv2.waitKey()\n",
    "cv2.imshow('Gray',g)\n",
    "cv2.waitKey()\n",
    "cv2.imshow('Red',r)\n",
    "cv2.waitKey()\n",
    "merged_image = cv2.merge((b,g,r))\n",
    "cv2.imshow('merged image',merged_image)\n",
    "cv2.waitKey()\n",
    "gray = cv2.cvtColor(merged_image, cv2.COLOR_BGR2GRAY)\n",
    "x = gray.shape\n",
    "print(x)"
   ]
  },
  {
   "cell_type": "code",
   "execution_count": null,
   "metadata": {},
   "outputs": [],
   "source": []
  }
 ],
 "metadata": {
  "kernelspec": {
   "display_name": "Python (face)",
   "language": "python",
   "name": "face"
  },
  "language_info": {
   "codemirror_mode": {
    "name": "ipython",
    "version": 3
   },
   "file_extension": ".py",
   "mimetype": "text/x-python",
   "name": "python",
   "nbconvert_exporter": "python",
   "pygments_lexer": "ipython3",
   "version": "3.5.6"
  }
 },
 "nbformat": 4,
 "nbformat_minor": 2
}
