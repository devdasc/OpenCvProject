{
 "cells": [
  {
   "cell_type": "code",
   "execution_count": 3,
   "metadata": {},
   "outputs": [],
   "source": [
    "%config IPCompleter.greedy=True\n",
    "import cv2\n",
    "coordinates =[]\n",
    "status = False\n",
    "def lets_crop(event,x,y,flags,parameters):\n",
    "    global coordinates, status\n",
    "    if event ==cv2.EVENT_LBUTTONDOWN:\n",
    "        status = True\n",
    "        coordinates = [(x,y)]\n",
    "    if event == cv2.EVENT_LBUTTONUP:\n",
    "        status = False\n",
    "        coordinates.append((x,y))\n",
    "        cv2.rectangle(image,coordinates[0],coordinates[1],(255,0,0),2)\n",
    "        cv2.imshow('CROP',image)\n",
    "    \n",
    "image = cv2.imread(r'C:\\Users\\devda\\PythonProjects\\OpenCv\\OpenCvProject\\images\\flower.jpg')\n",
    "copied_image = image.copy()\n",
    "\n",
    "cv2.namedWindow('CROP')\n",
    "cv2.setMouseCallback('CROP',lets_crop)\n",
    "\n",
    "while True:\n",
    "    cv2.imshow('CROP',image)\n",
    "    keypress = cv2.waitKey(1)\n",
    "    \n",
    "    if keypress == ord('r'):\n",
    "        image = copied_image.copy()\n",
    "        \n",
    "    if keypress == ord('c'):\n",
    "        break\n",
    "if len(coordinates)==2:\n",
    "    roi = copied_image[coordinates[0][1] : coordinates[1][1], coordinates[0][0]: coordinates[1][0]]\n",
    "    cv2.imshow('ROI',roi)\n",
    "    cv2.waitKey(0)\n",
    "cv2.destroyAllWindows()\n",
    "\n",
    "    \n",
    "    \n",
    "    "
   ]
  },
  {
   "cell_type": "code",
   "execution_count": null,
   "metadata": {},
   "outputs": [],
   "source": []
  }
 ],
 "metadata": {
  "kernelspec": {
   "display_name": "Python (face)",
   "language": "python",
   "name": "face"
  },
  "language_info": {
   "codemirror_mode": {
    "name": "ipython",
    "version": 3
   },
   "file_extension": ".py",
   "mimetype": "text/x-python",
   "name": "python",
   "nbconvert_exporter": "python",
   "pygments_lexer": "ipython3",
   "version": "3.5.6"
  }
 },
 "nbformat": 4,
 "nbformat_minor": 2
}
