{
 "cells": [
  {
   "cell_type": "code",
   "execution_count": 8,
   "metadata": {},
   "outputs": [
    {
     "data": {
      "text/plain": [
       "-1"
      ]
     },
     "execution_count": 8,
     "metadata": {},
     "output_type": "execute_result"
    }
   ],
   "source": [
    "%config IPCompleter.greedy=True\n",
    "import cv2\n",
    "image = cv2.imread(r'C:\\Users\\devda\\PythonProjects\\OpenCv\\OpenCvProject\\images\\girl.png')\n",
    "# inetrpolaration--INTER_CUBIC gives better result after enlarge\n",
    "#enlarge = cv2.resize(image,None,fx=1.2,fy=1.2, interpolation=cv2.INTER_LINEAR)# 1.2 means x,y axix increase by 1.2 times\n",
    "#enlarge = cv2.resize(image,None,fx=1.2,fy=1.2, interpolation=cv2.INTER_CUBIC)# 1.2 means x,y axix increase by 1.2 times\n",
    "shrink = cv2.resize(image,None,fx=0.8,fy=0.8, interpolation=cv2.INTER_AREA)\n",
    "cv2.imshow('Shrink',shrink)\n",
    "cv2.waitKey()"
   ]
  },
  {
   "cell_type": "code",
   "execution_count": null,
   "metadata": {},
   "outputs": [],
   "source": []
  }
 ],
 "metadata": {
  "kernelspec": {
   "display_name": "Python (face)",
   "language": "python",
   "name": "face"
  },
  "language_info": {
   "codemirror_mode": {
    "name": "ipython",
    "version": 3
   },
   "file_extension": ".py",
   "mimetype": "text/x-python",
   "name": "python",
   "nbconvert_exporter": "python",
   "pygments_lexer": "ipython3",
   "version": "3.5.6"
  }
 },
 "nbformat": 4,
 "nbformat_minor": 2
}
