{
 "cells": [
  {
   "cell_type": "code",
   "execution_count": 3,
   "metadata": {},
   "outputs": [
    {
     "name": "stdout",
     "output_type": "stream",
     "text": [
      "Number of Contours detected: 55\n"
     ]
    },
    {
     "data": {
      "text/plain": [
       "-1"
      ]
     },
     "execution_count": 3,
     "metadata": {},
     "output_type": "execute_result"
    }
   ],
   "source": [
    "%config IPCompleter.greedy=True\n",
    "import cv2\n",
    "import numpy as np\n",
    "image = cv2.imread(r'C:\\Users\\devda\\PythonProjects\\OpenCv\\OpenCvProject\\images\\circle.jpg')\n",
    "#image = cv2.imread('/images/contour1.png')\n",
    "#cv2.imshow('image',image)\n",
    "blurred = cv2.pyrMeanShiftFiltering(image,3,71)\n",
    "gray_image = cv2.cvtColor(blurred,cv2.COLOR_BGR2GRAY)\n",
    "ret, threshold = cv2.threshold(gray_image,0,255,cv2.THRESH_BINARY + cv2.THRESH_OTSU)\n",
    "_, contours,_ = cv2.findContours(threshold,cv2.RETR_LIST,cv2.CHAIN_APPROX_NONE)\n",
    "print('Number of Contours detected: {}'.format(len(contours)))\n",
    "cv2.drawContours(image,contours,10,(0,0,255))\n",
    "cv2.namedWindow('Display',cv2.WINDOW_NORMAL)\n",
    "cv2.imshow('Display',image)\n",
    "cv2.waitKey()"
   ]
  }
 ],
 "metadata": {
  "kernelspec": {
   "display_name": "Python (face)",
   "language": "python",
   "name": "face"
  },
  "language_info": {
   "codemirror_mode": {
    "name": "ipython",
    "version": 3
   },
   "file_extension": ".py",
   "mimetype": "text/x-python",
   "name": "python",
   "nbconvert_exporter": "python",
   "pygments_lexer": "ipython3",
   "version": "3.5.6"
  }
 },
 "nbformat": 4,
 "nbformat_minor": 2
}
