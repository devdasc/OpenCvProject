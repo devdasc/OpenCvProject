{
 "cells": [
  {
   "cell_type": "code",
   "execution_count": 4,
   "metadata": {},
   "outputs": [
    {
     "data": {
      "text/plain": [
       "-1"
      ]
     },
     "execution_count": 4,
     "metadata": {},
     "output_type": "execute_result"
    }
   ],
   "source": [
    "# obtaining a image from url using skimage\n",
    "# Opencv uses-->BGR; skimage--->RGB\n",
    "%config IPCompleter.greedy=True\n",
    "import cv2\n",
    "from skimage import io\n",
    "rabbit = io.imread('https://cdn.pixabay.com/photo/2016/12/13/00/13/rabbit-1903016_960_720.jpg')\n",
    "cov_image = cv2.cvtColor(rabbit,cv2.COLOR_RGB2BGR)\n",
    "cv2.imshow('URL Image',cov_image)\n",
    "cv2.waitKey()"
   ]
  },
  {
   "cell_type": "code",
   "execution_count": null,
   "metadata": {},
   "outputs": [],
   "source": []
  }
 ],
 "metadata": {
  "kernelspec": {
   "display_name": "Python (face)",
   "language": "python",
   "name": "face"
  },
  "language_info": {
   "codemirror_mode": {
    "name": "ipython",
    "version": 3
   },
   "file_extension": ".py",
   "mimetype": "text/x-python",
   "name": "python",
   "nbconvert_exporter": "python",
   "pygments_lexer": "ipython3",
   "version": "3.5.6"
  }
 },
 "nbformat": 4,
 "nbformat_minor": 2
}
