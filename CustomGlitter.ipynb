{
 "cells": [
  {
   "cell_type": "code",
   "execution_count": 2,
   "metadata": {},
   "outputs": [
    {
     "data": {
      "text/plain": [
       "-1"
      ]
     },
     "execution_count": 2,
     "metadata": {},
     "output_type": "execute_result"
    }
   ],
   "source": [
    "%config IPCompleter.greedy=True\n",
    "import cv2\n",
    "import random\n",
    "import numpy as np\n",
    "image = cv2.imread(r'C:\\Users\\devda\\PythonProjects\\OpenCv\\OpenCvProject\\images\\pic.jpg',0)\n",
    "blurred = cv2.GaussianBlur(image,(9,9),0)\n",
    "th1 = cv2.adaptiveThreshold(blurred,255,cv2.ADAPTIVE_THRESH_GAUSSIAN_C,cv2.THRESH_BINARY,11,1)\n",
    "(rows,cols) = np.shape(th1)\n",
    "canvas = np.zeros((rows,cols,3),dtype='uint8')\n",
    "for i in range(0,rows):\n",
    "    for j in range(0,cols):\n",
    "        for k in range(0,3):# k i sthe iterator for number of planes\n",
    "            if th1[i][j] !=0:\n",
    "                color = random.randrange(0,255,1)\n",
    "                canvas[i][j][k] = color #(0,255,0)\n",
    "            else:\n",
    "                color = 0\n",
    "                canvas[i][j][k] = color\n",
    "cv2.imshow('original',th1)\n",
    "cv2.imshow('Canvas',canvas)\n",
    "cv2.waitKey()"
   ]
  }
 ],
 "metadata": {
  "kernelspec": {
   "display_name": "Python (face)",
   "language": "python",
   "name": "face"
  },
  "language_info": {
   "codemirror_mode": {
    "name": "ipython",
    "version": 3
   },
   "file_extension": ".py",
   "mimetype": "text/x-python",
   "name": "python",
   "nbconvert_exporter": "python",
   "pygments_lexer": "ipython3",
   "version": "3.5.6"
  }
 },
 "nbformat": 4,
 "nbformat_minor": 2
}
