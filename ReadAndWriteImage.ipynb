{
 "cells": [
  {
   "cell_type": "code",
   "execution_count": 8,
   "metadata": {},
   "outputs": [
    {
     "data": {
      "text/plain": [
       "-1"
      ]
     },
     "execution_count": 8,
     "metadata": {},
     "output_type": "execute_result"
    }
   ],
   "source": [
    "%config IPCompleter.greedy=True\n",
    "import cv2\n",
    "import numpy as np\n",
    "coffePic = cv2.imread(r'C:\\Users\\devda\\PythonProjects\\OpenCv\\OpenCvProject\\images\\coffe.jpeg',0)# 0 parameter converts to gray\n",
    "# to convert original pic to grayscale\n",
    "#coffeGray = cv2.cvtColor(coffePic,cv2.COLOR_BGR2GRAY)\n",
    "cv2.imshow('Grayed Coffe',coffePic)\n",
    "# writing the gray image as GrayCoffe.jpeg\n",
    "cv2.imwrite(r'C:\\Users\\devda\\PythonProjects\\OpenCv\\OpenCvProject\\images\\Graycoffe.jpeg',coffePic)\n",
    "cv2.waitKey()"
   ]
  },
  {
   "cell_type": "code",
   "execution_count": null,
   "metadata": {},
   "outputs": [],
   "source": []
  }
 ],
 "metadata": {
  "kernelspec": {
   "display_name": "Python (face)",
   "language": "python",
   "name": "face"
  },
  "language_info": {
   "codemirror_mode": {
    "name": "ipython",
    "version": 3
   },
   "file_extension": ".py",
   "mimetype": "text/x-python",
   "name": "python",
   "nbconvert_exporter": "python",
   "pygments_lexer": "ipython3",
   "version": "3.5.6"
  }
 },
 "nbformat": 4,
 "nbformat_minor": 2
}
