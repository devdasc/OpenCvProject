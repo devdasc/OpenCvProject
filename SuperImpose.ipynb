{
 "cells": [
  {
   "cell_type": "code",
   "execution_count": 5,
   "metadata": {},
   "outputs": [
    {
     "data": {
      "text/plain": [
       "-1"
      ]
     },
     "execution_count": 5,
     "metadata": {},
     "output_type": "execute_result"
    }
   ],
   "source": [
    "%config IPCompleter.greedy=True\n",
    "import cv2\n",
    "img1 =cv2.imread(r'C:\\Users\\devda\\PythonProjects\\OpenCv\\OpenCvProject\\images\\pel.jpg')\n",
    "img2 =cv2.imread(r'C:\\Users\\devda\\PythonProjects\\OpenCv\\OpenCvProject\\images\\watermark.jpg')\n",
    "\n",
    "dst = cv2.addWeighted(img1,0.6,img2,0.4,0)\n",
    "\n",
    "resize=cv2.resize(dst,(450,650),interpolation=cv2.INTER_CUBIC)\n",
    "cv2.imshow('Superimposed',resize)\n",
    "cv2.waitKey()\n"
   ]
  }
 ],
 "metadata": {
  "kernelspec": {
   "display_name": "Python (face)",
   "language": "python",
   "name": "face"
  },
  "language_info": {
   "codemirror_mode": {
    "name": "ipython",
    "version": 3
   },
   "file_extension": ".py",
   "mimetype": "text/x-python",
   "name": "python",
   "nbconvert_exporter": "python",
   "pygments_lexer": "ipython3",
   "version": "3.5.6"
  }
 },
 "nbformat": 4,
 "nbformat_minor": 2
}
