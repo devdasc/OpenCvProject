{
 "cells": [
  {
   "cell_type": "code",
   "execution_count": 1,
   "metadata": {},
   "outputs": [],
   "source": [
    "import cv2\n",
    "filename=r'C:\\Users\\devda\\PythonProjects\\OpenCv\\OpenCvProject\\images\\traffic2.mp4'\n",
    "cap = cv2.VideoCapture(filename)\n",
    "reference_frame = None\n",
    "image_area = None\n",
    "\n",
    "while True:\n",
    "    ret, frame = cap.read()\n",
    "    #print (ret)\n",
    "\n",
    "    if ret is False:\n",
    "        break\n",
    "    else:\n",
    "        if reference_frame is None:\n",
    "            reference_frame = frame\n",
    "            reference_frame = cv2.cvtColor(reference_frame,cv2.COLOR_BGR2GRAY)\n",
    "            image_area = reference_frame.shape[0]*reference_frame[1]\n",
    "            continue\n",
    "    \n",
    "        gray = cv2.cvtColor(frame,cv2.COLOR_BGR2GRAY)\n",
    "        diff = cv2.absdiff(reference_frame, gray)\n",
    "        blur = cv2.medianBlur(diff,31)\n",
    "        \n",
    "        f, threshold = cv2.threshold(blur,20,255,cv2.THRESH_BINARY )# removed + cv2.THRESH_OTSU\n",
    "        (_,contours,_) = cv2.findContours(threshold,cv2.RETR_TREE,cv2.CHAIN_APPROX_SIMPLE)\n",
    "        #cv2.drawContours(frame,contours,-1,(0,0,255),2)\n",
    "        for i in contours:\n",
    "            contour_area = cv2.contourArea(i)\n",
    "            #if (contour_area > 0.001* image_area) and (contour_area < 0.03*image_area):\n",
    "            (x,y,w,h) = cv2.boundingRect(i)\n",
    "            cv2.rectangle(frame,(x,y),(x+w,y+h),(0,0,255),2)\n",
    "        cv2.imshow('frames',frame)\n",
    "        if cv2.waitKey(1) ==ord('q'):\n",
    "            break\n",
    "            "
   ]
  }
 ],
 "metadata": {
  "kernelspec": {
   "display_name": "Python (face)",
   "language": "python",
   "name": "face"
  },
  "language_info": {
   "codemirror_mode": {
    "name": "ipython",
    "version": 3
   },
   "file_extension": ".py",
   "mimetype": "text/x-python",
   "name": "python",
   "nbconvert_exporter": "python",
   "pygments_lexer": "ipython3",
   "version": "3.5.6"
  }
 },
 "nbformat": 4,
 "nbformat_minor": 2
}
