{
 "cells": [
  {
   "cell_type": "code",
   "execution_count": 1,
   "metadata": {},
   "outputs": [],
   "source": [
    "%config IPCompleter.greedy=True\n",
    "import cv2\n",
    "import numpy as np\n",
    "\n",
    "device = cv2.VideoCapture(0)\n",
    "while True:\n",
    "    ret, frame = device.read()\n",
    "    hsv = cv2.cvtColor(frame,cv2.COLOR_BGR2HSV)\n",
    "    lower_range = np.array([50,50,110])\n",
    "    upper_range = np.array([255,255,130])    \n",
    "    mask = cv2.inRange(hsv,lower_range,upper_range)\n",
    "    cv2.imshow('Frame',frame)\n",
    "    result = cv2.bitwise_and(frame,frame,mask=mask)\n",
    "    cv2.imshow('Result',result)\n",
    "    \n",
    "    if cv2.waitKey(1)==27:\n",
    "        break\n",
    "device.release()\n",
    "cv2.destroyAllWindows()"
   ]
  }
 ],
 "metadata": {
  "kernelspec": {
   "display_name": "Python (face)",
   "language": "python",
   "name": "face"
  },
  "language_info": {
   "codemirror_mode": {
    "name": "ipython",
    "version": 3
   },
   "file_extension": ".py",
   "mimetype": "text/x-python",
   "name": "python",
   "nbconvert_exporter": "python",
   "pygments_lexer": "ipython3",
   "version": "3.5.6"
  }
 },
 "nbformat": 4,
 "nbformat_minor": 2
}
