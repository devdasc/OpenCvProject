{
 "cells": [
  {
   "cell_type": "code",
   "execution_count": 3,
   "metadata": {},
   "outputs": [
    {
     "data": {
      "text/plain": [
       "-1"
      ]
     },
     "execution_count": 3,
     "metadata": {},
     "output_type": "execute_result"
    }
   ],
   "source": [
    "%config IPCompleter.greedy=True\n",
    "import cv2\n",
    "image = cv2.imread(r'C:\\Users\\devda\\PythonProjects\\OpenCv\\OpenCvProject\\images\\girl.png')\n",
    "hor = cv2.flip(image,1) # 1 for horizontal flip\n",
    "vert = cv2.flip(image,0)# 0 for vertical flip\n",
    "both = cv2.flip(image,-1) # for both flip in the same image\n",
    "\n",
    "cv2.imshow('original', image)\n",
    "#cv2.imshow('Horizontal',hor)\n",
    "#cv2.imshow('Vertical', vert)\n",
    "cv2.imshow('Both',both)\n",
    "cv2.waitKey()"
   ]
  },
  {
   "cell_type": "code",
   "execution_count": null,
   "metadata": {},
   "outputs": [],
   "source": []
  }
 ],
 "metadata": {
  "kernelspec": {
   "display_name": "Python (face)",
   "language": "python",
   "name": "face"
  },
  "language_info": {
   "codemirror_mode": {
    "name": "ipython",
    "version": 3
   },
   "file_extension": ".py",
   "mimetype": "text/x-python",
   "name": "python",
   "nbconvert_exporter": "python",
   "pygments_lexer": "ipython3",
   "version": "3.5.6"
  }
 },
 "nbformat": 4,
 "nbformat_minor": 2
}
