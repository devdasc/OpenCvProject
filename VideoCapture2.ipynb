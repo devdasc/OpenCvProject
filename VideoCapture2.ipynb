{
 "cells": [
  {
   "cell_type": "code",
   "execution_count": 2,
   "metadata": {},
   "outputs": [],
   "source": [
    "%config IPCompleter.greedy=True\n",
    "import cv2\n",
    "import numpy as np\n",
    "device = cv2.VideoCapture(0)\n",
    "flag = 0 # 0-->r, 1-->g,2-->hsv\n",
    "while True:\n",
    "    ret, frame =device.read()\n",
    "    keypress = cv2.waitKey(1)\n",
    "    if keypress ==ord('g'):\n",
    "        #turn grayscale\n",
    "        flag=1\n",
    "    if keypress == ord('h'):\n",
    "        #turn hsv\n",
    "        flag=2\n",
    "    if keypress == ord('r'):\n",
    "        #turn rgb\n",
    "        flag=0\n",
    "    if flag==0:\n",
    "        pass\n",
    "    if flag ==1:\n",
    "        frame=cv2.cvtColor(frame,cv2.COLOR_BGR2GRAY)\n",
    "    if flag ==2:\n",
    "        frame=cv2.cvtColor(frame,cv2.COLOR_BGR2HSV)\n",
    "    cv2.imshow('Video Capture',frame)\n",
    "    \n",
    "    if keypress ==27:\n",
    "        break\n",
    "device.release()\n",
    "cv2.destroyAllWindows()\n",
    "        \n",
    "        \n",
    "        \n",
    "        \n",
    "        "
   ]
  }
 ],
 "metadata": {
  "kernelspec": {
   "display_name": "Python (face)",
   "language": "python",
   "name": "face"
  },
  "language_info": {
   "codemirror_mode": {
    "name": "ipython",
    "version": 3
   },
   "file_extension": ".py",
   "mimetype": "text/x-python",
   "name": "python",
   "nbconvert_exporter": "python",
   "pygments_lexer": "ipython3",
   "version": "3.5.6"
  }
 },
 "nbformat": 4,
 "nbformat_minor": 2
}
